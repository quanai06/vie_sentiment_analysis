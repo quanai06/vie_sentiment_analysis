{
 "cells": [
  {
   "cell_type": "code",
   "execution_count": 1,
   "id": "b70257f2",
   "metadata": {},
   "outputs": [],
   "source": [
    "import numpy as np\n",
    "import pandas as pd\n",
    "import matplotlib.pyplot as plt\n",
    "import seaborn as sns\n"
   ]
  },
  {
   "cell_type": "code",
   "execution_count": 15,
   "id": "37686ffa",
   "metadata": {},
   "outputs": [],
   "source": [
    "train_df=pd.read_excel(\"../data/train_nor_811.xlsx\")\n",
    "test_df=pd.read_excel(\"../data/test_nor_811.xlsx\")\n",
    "valid_df=pd.read_excel(\"../data/valid_nor_811.xlsx\")"
   ]
  },
  {
   "cell_type": "code",
   "execution_count": 16,
   "id": "1958ac15",
   "metadata": {},
   "outputs": [
    {
     "name": "stdout",
     "output_type": "stream",
     "text": [
      "Original: ck oi, hum nay mk dc off sớm nè, ib cho vk ik \n",
      "Normalized: chồng oi , hum nay mình được tắt máy sớm nè , nhắn_tin cho vợ đi\n"
     ]
    }
   ],
   "source": [
    "import re\n",
    "import json\n",
    "from pyvi import ViTokenizer\n",
    "slang_dict = {\n",
    "    \"vk\": \"vợ\", \"ck\": \"chồng\", \"mk\": \"mình\", \"ib\": \"nhắn tin\",\n",
    "    \"ntn\": \"như thế nào\", \"dc\": \"được\", \"ko\": \"không\", \"k\": \"không\",\n",
    "    \"j\": \"gì\", \"r\": \"rồi\", \"tl\": \"trả lời\", \"lm\": \"làm\",\n",
    "    \"vs\": \"với\", \"đt\": \"điện thoại\", \"fb\": \"facebook\", \"ad\": \"quản trị viên\",\n",
    "    \"g9\": \"good night\", \"off\": \"tắt máy\", \"on\": \"bật máy\", \"pm\": \"nhắn riêng\",\n",
    "    \"omg\": \"ôi trời ơi\", \"wtf\": \"cái quái gì thế\", \":))\":\"vui vẻ\",\"ik\":\"đi\",\n",
    "    \"vl\":\"bất ngờ\",\"m\":\"mày\",\"t\":\"tao\",\"đc\":\"được\",\"cmm\":\"tức giận\",\"dmm\":\"tức giận\",\n",
    "    \"kkk\":\"hài hước\",\"per\":\"thằng này \"\n",
    "}\n",
    "with open('slang_dict.json', 'w', encoding='utf-8') as f:\n",
    "    json.dump(slang_dict, f, ensure_ascii=False, indent=4)\n",
    "def load_slang_dict(slang_path=\"slang_dict.json\"):\n",
    "    with open(slang_path, \"r\", encoding=\"utf-8\") as f:\n",
    "        return json.load(f)\n",
    "def normalize_teencode(text, slang_dict):\n",
    "    pattern = re.compile(r'\\b(' + '|'.join(re.escape(key) for key in slang_dict.keys()) + r')\\b')\n",
    "    text = pattern.sub(lambda x: slang_dict[x.group()], text)\n",
    "    text = re.sub(r'(.)\\1{2,}', r'\\1', text)\n",
    "    text = ViTokenizer.tokenize(text)\n",
    "    return text\n",
    "sample_text = \"ck oi, hum nay mk dc off sớm nè, ib cho vk ik \"\n",
    "normalized = normalize_teencode(sample_text,slang_dict)\n",
    "print(f\"Original: {sample_text}\")\n",
    "print(f\"Normalized: {normalized}\")"
   ]
  },
  {
   "cell_type": "code",
   "execution_count": 17,
   "id": "a0de6785",
   "metadata": {},
   "outputs": [],
   "source": [
    "train_df[\"Sentence\"] = train_df[\"Sentence\"].apply(lambda x: normalize_teencode(x, slang_dict))\n",
    "valid_df[\"Sentence\"] = valid_df[\"Sentence\"].apply(lambda x: normalize_teencode(x, slang_dict))\n",
    "test_df[\"Sentence\"] = test_df[\"Sentence\"].apply(lambda x: normalize_teencode(x, slang_dict))"
   ]
  },
  {
   "cell_type": "code",
   "execution_count": 20,
   "id": "d5b3785e",
   "metadata": {},
   "outputs": [],
   "source": [
    "from sklearn.utils import resample\n",
    "df_anger=train_df[train_df[\"Emotion\"]==\"Anger\"]\n",
    "df_fear=train_df[train_df[\"Emotion\"]==\"Fear\"]\n",
    "df_surprise=train_df[train_df[\"Emotion\"]==\"Surprise\"]\n",
    "anger=resample(df_anger,replace=True,n_samples=400,random_state=42)\n",
    "fear=resample(df_fear,replace=True,n_samples=400,random_state=42)\n",
    "surprise=resample(df_surprise,replace=True,n_samples=400,random_state=42)\n",
    "df_balance_re=pd.concat([train_df,anger,fear,surprise])\n",
    "df_balance_re=df_balance_re.sample(frac=1,random_state=42)"
   ]
  },
  {
   "cell_type": "code",
   "execution_count": 21,
   "id": "36196cb2",
   "metadata": {},
   "outputs": [
    {
     "data": {
      "text/plain": [
       "<Axes: xlabel='Emotion', ylabel='count'>"
      ]
     },
     "execution_count": 21,
     "metadata": {},
     "output_type": "execute_result"
    },
    {
     "data": {
      "image/png": "[encoded data removed]",
      "text/plain": [
       "<Figure size 640x480 with 1 Axes>"
      ]
     },
     "metadata": {},
     "output_type": "display_data"
    }
   ],
   "source": [
    "sns.countplot(data=df_balance_re,x=\"Emotion\")"
   ]
  },
  {
   "cell_type": "code",
   "execution_count": 23,
   "id": "88133082",
   "metadata": {},
   "outputs": [],
   "source": [
    "df_balance_re.to_csv(\"train_resample.csv\",index=False)"
   ]
  },
  {
   "cell_type": "code",
   "execution_count": null,
   "id": "64209651",
   "metadata": {},
   "outputs": [],
   "source": []
  },
  {
   "cell_type": "code",
   "execution_count": null,
   "id": "f655bb46",
   "metadata": {},
   "outputs": [],
   "source": []
  },
  {
   "cell_type": "code",
   "execution_count": null,
   "id": "2f156b3a",
   "metadata": {},
   "outputs": [],
   "source": []
  }
 ],
 "metadata": {
  "kernelspec": {
   "display_name": "base",
   "language": "python",
   "name": "python3"
  },
  "language_info": {
   "codemirror_mode": {
    "name": "ipython",
    "version": 3
   },
   "file_extension": ".py",
   "mimetype": "text/x-python",
   "name": "python",
   "nbconvert_exporter": "python",
   "pygments_lexer": "ipython3",
   "version": "3.12.7"
  }
 },
 "nbformat": 4,
 "nbformat_minor": 5
}
